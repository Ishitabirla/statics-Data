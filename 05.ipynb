{
 "cells": [
  {
   "cell_type": "code",
   "execution_count": 1,
   "id": "1755fb88",
   "metadata": {},
   "outputs": [],
   "source": [
    "import pandas as pd\n",
    "from sklearn.preprocessing import StandardScaler, OneHotEncoder\n",
    "from sklearn.impute import SimpleImputer"
   ]
  },
  {
   "cell_type": "code",
   "execution_count": 2,
   "id": "df2098cc",
   "metadata": {},
   "outputs": [],
   "source": [
    "df = pd.read_csv('gender_submission.csv')\n"
   ]
  },
  {
   "cell_type": "code",
   "execution_count": 3,
   "id": "b1c4600c",
   "metadata": {},
   "outputs": [
    {
     "name": "stdout",
     "output_type": "stream",
     "text": [
      "   PassengerId  Survived\n",
      "0          892         0\n",
      "1          893         1\n",
      "2          894         0\n",
      "3          895         0\n",
      "4          896         1\n"
     ]
    }
   ],
   "source": [
    "print(df.head())"
   ]
  },
  {
   "cell_type": "code",
   "execution_count": 5,
   "id": "f97512d5",
   "metadata": {},
   "outputs": [],
   "source": [
    "imputer = SimpleImputer(strategy='median')\n",
    "df['PassengerId'] = imputer.fit_transform(df[['PassengerId']])"
   ]
  },
  {
   "cell_type": "code",
   "execution_count": 6,
   "id": "edb1e317",
   "metadata": {},
   "outputs": [],
   "source": [
    "df['Survived'].fillna(df['Survived'].mode()[0], inplace=True)\n"
   ]
  },
  {
   "cell_type": "code",
   "execution_count": 8,
   "id": "9ed770bb",
   "metadata": {},
   "outputs": [],
   "source": [
    "scaler = StandardScaler()\n",
    "df['PassengerId'] = scaler.fit_transform(df[['PassengerId']])\n"
   ]
  },
  {
   "cell_type": "code",
   "execution_count": 9,
   "id": "5482d455",
   "metadata": {},
   "outputs": [],
   "source": [
    "df = pd.get_dummies(df, columns=['PassengerId', 'Survived'], drop_first=True)"
   ]
  },
  {
   "cell_type": "code",
   "execution_count": 15,
   "id": "82562f0e",
   "metadata": {},
   "outputs": [
    {
     "name": "stdout",
     "output_type": "stream",
     "text": [
      "   PassengerId  Survived  SibSp  Parch  PassangerSize\n",
      "0          892         0      0      0              1\n",
      "1          893         1      1      0              2\n",
      "2          894         0      0      1              2\n",
      "3          895         0      0      0              1\n",
      "4          896         1      1      1              3\n"
     ]
    }
   ],
   "source": [
    "import pandas as pd\n",
    "\n",
    "data = {\n",
    "    'PassengerId': [892, 893, 894, 895, 896],\n",
    "    'Survived': [0, 1, 0, 0, 1],\n",
    "    'SibSp': [0, 1, 0, 0, 1],\n",
    "    'Parch': [0, 0, 1, 0, 1]  # Example data for parents/children\n",
    "}\n",
    "\n",
    "df = pd.DataFrame(data)\n",
    "\n",
    "df['PassangerSize'] = df['SibSp'] + df['Parch'] + 1\n",
    "\n",
    "print(df.head())\n"
   ]
  },
  {
   "cell_type": "code",
   "execution_count": 16,
   "id": "6cf01c1d",
   "metadata": {},
   "outputs": [
    {
     "name": "stdout",
     "output_type": "stream",
     "text": [
      "   PassengerId  SibSp\n",
      "0          892      0\n",
      "1          893      1\n",
      "2          894      0\n",
      "3          895      0\n",
      "4          896      1\n"
     ]
    }
   ],
   "source": [
    "\n",
    "\n",
    "data = {\n",
    "    'PassengerId': [892, 893, 894, 895, 896],\n",
    "    'Survived': [0, 1, 0, 0, 1],\n",
    "    'SibSp': [0, 1, 0, 0, 1], \n",
    "}\n",
    "\n",
    "df = pd.DataFrame(data)\n",
    "\n",
    "if 'Survived' in df.columns:\n",
    "    df.drop(['Survived'], axis=1, inplace=True)\n",
    "\n",
    "print(df.head())\n"
   ]
  },
  {
   "cell_type": "code",
   "execution_count": null,
   "id": "69d6ef75",
   "metadata": {},
   "outputs": [],
   "source": []
  }
 ],
 "metadata": {
  "kernelspec": {
   "display_name": "Python 3 (ipykernel)",
   "language": "python",
   "name": "python3"
  },
  "language_info": {
   "codemirror_mode": {
    "name": "ipython",
    "version": 3
   },
   "file_extension": ".py",
   "mimetype": "text/x-python",
   "name": "python",
   "nbconvert_exporter": "python",
   "pygments_lexer": "ipython3",
   "version": "3.10.9"
  }
 },
 "nbformat": 4,
 "nbformat_minor": 5
}
